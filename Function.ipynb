{
  "nbformat": 4,
  "nbformat_minor": 0,
  "metadata": {
    "colab": {
      "provenance": []
    },
    "kernelspec": {
      "name": "python3",
      "display_name": "Python 3"
    },
    "language_info": {
      "name": "python"
    }
  },
  "cells": [
    {
      "cell_type": "markdown",
      "source": [],
      "metadata": {
        "id": "gZ32jTdudK1g"
      }
    },
    {
      "cell_type": "markdown",
      "source": [
        "###Assignment###\n",
        "#Function\n",
        "#Theory Questions#"
      ],
      "metadata": {
        "id": "ndZFDp3UdL0f"
      }
    },
    {
      "cell_type": "markdown",
      "source": [
        "1. What is the difference between a function and a method in Python?\n",
        "   - In Python, methods and functions have similar purposes but differ in important ways. Functions are independent blocks of code that can be called from anywhere, while methods are tied to objects or classes and need an object or class instance to be invoked. Functions promote code reusability, while methods offer behavior specific to objects. Functions are called by name, while methods are accessed using dot notation. Understanding these distinctions is crucial for writing organized, modular code in Python and harnessing the full power of methods and functions in various programming scenarios.\n",
        "  \n",
        "Key Difference Between Methods and Function :\n",
        "•\tMethod definition is always present inside the class, while the class is not required to define the function.\n",
        "•\tFunctions can have a zero parameter, whereas the method should have a default parameter, either self or class, to get the object.\n",
        "•\tThe method operates the data in the class, while a function is used to return or pass the data.\n",
        "•\tA function can be directly called by its name, while a method can’t be called by its name.\n",
        "•\tThe method lies under Object-Oriented Programming, while a function is an independent functionality.\n"
      ],
      "metadata": {
        "id": "PfrfVidqdT8P"
      }
    },
    {
      "cell_type": "markdown",
      "source": [
        "2. Explain the concept of function arguments and parameters in Python.\n",
        "   - Parameters : Parameters are variables defined in a function declaration. This act as placeholders for the values (arguments) that will be passed to the function.\n",
        "   Example :"
      ],
      "metadata": {
        "id": "E1uR8fK3dsF_"
      }
    },
    {
      "cell_type": "code",
      "source": [
        "# Here a,b are the parameters\n",
        "def sum(a,b):\n",
        "  print(a+b)\n",
        "\n",
        "sum(1,2)"
      ],
      "metadata": {
        "colab": {
          "base_uri": "https://localhost:8080/"
        },
        "id": "1gXuma86d8em",
        "outputId": "7326d7aa-4cce-4874-bf10-f4abf16caf78"
      },
      "execution_count": 1,
      "outputs": [
        {
          "output_type": "stream",
          "name": "stdout",
          "text": [
            "3\n"
          ]
        }
      ]
    },
    {
      "cell_type": "markdown",
      "source": [
        "Arguments : Arguments are the actual values that you pass to the function when you call it. These values replace the parameters defined in the function.\n",
        "Although these terms are often used interchangeably, they have distinct roles within a function. This article focuses to clarify them and help us to use Parameters and Arguments effectively.\n",
        "Example:\n"
      ],
      "metadata": {
        "id": "-GUEUXvkePxu"
      }
    },
    {
      "cell_type": "code",
      "source": [
        "def sum(a,b):\n",
        "  print(a+b)\n",
        "\n",
        "# Here the values 1,2 are arguments\n",
        "sum(1,2)"
      ],
      "metadata": {
        "colab": {
          "base_uri": "https://localhost:8080/"
        },
        "id": "hZu_TtC1eStm",
        "outputId": "cea0aecc-21b8-47ee-9999-2b1f8a782681"
      },
      "execution_count": 2,
      "outputs": [
        {
          "output_type": "stream",
          "name": "stdout",
          "text": [
            "3\n"
          ]
        }
      ]
    },
    {
      "cell_type": "markdown",
      "source": [
        "Types of arguments in python :\n",
        "Python functions can contain two types of arguments:\n",
        "•\tPositional Arguments\n",
        "•\tKeyword Arguments\n",
        "Positional Arguments\n",
        "Positional Arguments are needed to be included in proper order i.e the first argument is always listed first when the function is called, second argument needs to be called second and so on.\n",
        "Keyword Arguments\n",
        "Keyword Arguments is an argument passed to a function or method which is preceded by a keyword and equal to sign (=). The order of keyword argument with respect to another keyword argument does not matter because the values are being explicitly assigned.\n"
      ],
      "metadata": {
        "id": "4PsVtrfuebAO"
      }
    },
    {
      "cell_type": "markdown",
      "source": [
        "3. What are the different ways to define and call a function in Python?\n",
        "   - To define and call a function in Python, you can use the following steps:\n",
        "Define the function: Use the keyword def to declare the function, followed by the function name and parentheses. For example, def greet(name):.\n",
        "Add parameters: Add parameters to the function within the parentheses. You can add as many parameters as you want, separating them with commas.\n",
        "End with a colon: End the line with a colon.\n",
        "Indent the function body: Indent the code block that makes up the function beneath the def statement.\n",
        "Add statements: Add statements that the function should execute.\n",
        "Add a return statement: If the function should output something, end the function with a return statement.\n",
        "Call the function: To call the function, type its name followed by any required parameters in parentheses. For example, greet(\"Alice\")\n",
        "\n",
        "Defining functions in Python can make your code more modular, easier to read, and reusable.\n",
        "\n",
        "Some Benefits of Using Functions\n",
        "\n",
        "Increase Code Readability\n",
        "Increase Code Reusability\n",
        "\n",
        "Creating a Function in Python\n",
        "We can define a function in Python, using the def keyword. We can add any type of functionalities and properties to it as we require. By the following example, we can understand how to write a function in Python. In this way we can create Python function definition by using def keyword.\n",
        "\n",
        "Example :"
      ],
      "metadata": {
        "id": "YFMzxYa5egP2"
      }
    },
    {
      "cell_type": "code",
      "source": [
        "# A simple Python function\n",
        "def fun():\n",
        "    print(\"Welcome to GFG\")"
      ],
      "metadata": {
        "id": "UTSZOOn3fA1G"
      },
      "execution_count": 3,
      "outputs": []
    },
    {
      "cell_type": "markdown",
      "source": [
        "Calling a Function in Python :\n",
        "After creating a function in Python we can call it by using the name of the functions Python followed by parenthesis containing parameters of that particular function. Below is the example for calling def function Python.\n",
        "\n",
        "Example :"
      ],
      "metadata": {
        "id": "4y-Naa5lfJYO"
      }
    },
    {
      "cell_type": "code",
      "source": [
        "# A simple Python function\n",
        "def fun():\n",
        "    print(\"Welcome to GFG\")\n",
        "\n",
        "\n",
        "# Driver code to call a function\n",
        "fun()"
      ],
      "metadata": {
        "colab": {
          "base_uri": "https://localhost:8080/"
        },
        "id": "bUsxTAwafNJG",
        "outputId": "b0f8c911-df3d-4f23-f4e6-6b3be73432f1"
      },
      "execution_count": 4,
      "outputs": [
        {
          "output_type": "stream",
          "name": "stdout",
          "text": [
            "Welcome to GFG\n"
          ]
        }
      ]
    },
    {
      "cell_type": "markdown",
      "source": [
        "Python Function Arguments\n",
        "Arguments are the values passed inside the parenthesis of the function. A function can have any number of arguments separated by a comma.\n",
        "\n",
        "In this example, we will create a simple function in Python to check whether the number passed as an argument to the function is even or odd.\n",
        "\n",
        "Example :"
      ],
      "metadata": {
        "id": "7iGroU2FfZAm"
      }
    },
    {
      "cell_type": "code",
      "source": [
        "# A simple Python function to check\n",
        "# whether x is even or odd\n",
        "def evenOdd(x):\n",
        "    if (x % 2 == 0):\n",
        "        print(\"even\")\n",
        "    else:\n",
        "        print(\"odd\")\n",
        "\n",
        "\n",
        "# Driver code to call the function\n",
        "evenOdd(2)\n",
        "evenOdd(3)"
      ],
      "metadata": {
        "colab": {
          "base_uri": "https://localhost:8080/"
        },
        "id": "DFWTihDKfbkl",
        "outputId": "e9b077f7-ff9b-4585-8468-3ac63d81a3de"
      },
      "execution_count": 5,
      "outputs": [
        {
          "output_type": "stream",
          "name": "stdout",
          "text": [
            "even\n",
            "odd\n"
          ]
        }
      ]
    },
    {
      "cell_type": "markdown",
      "source": [
        "4. What is the purpose of the `return` statement in a Python function?\n",
        "   - The purpose of the return statement in a Python function is to end the function's execution and return a value to the calling function:\n",
        "Ends the function: The return statement marks the end of a function's execution and passes control back to the calling function.\n",
        "Returns a value: The return statement specifies the value or values to pass back from the function. The value can be of any type, including integers, floats, strings, lists, dictionaries, and other functions.\n",
        "Can't be used outside of a function: The return statement can only be used inside a Python function.\n",
        "Returns None if no return statement: If a function doesn't have a return statement, it returns None.\n",
        "Can include an expression: The return statement can include an expression, which is evaluated and the result is returned.\n",
        "\n",
        "A return statement is used to end the execution of the function call and it “returns” the value of the expression following the return keyword to the caller. The statements after the return statements are not executed. If the return statement is without any expression, then the special value None is returned. A return statement is overall used to invoke a function so that the passed statements can be executed.\n",
        "\n",
        "Here's an example of a Python function that uses a return statement:"
      ],
      "metadata": {
        "id": "M3Yk0nIhfny9"
      }
    },
    {
      "cell_type": "code",
      "source": [
        "def add(x, y):\n",
        "  result = x + y\n",
        "  return result"
      ],
      "metadata": {
        "id": "kHx7tyUgf0j2"
      },
      "execution_count": 6,
      "outputs": []
    },
    {
      "cell_type": "markdown",
      "source": [
        "Python allows you to return multiple values from a function by returning them as a tuple:"
      ],
      "metadata": {
        "id": "UvAltiLegLyV"
      }
    },
    {
      "cell_type": "code",
      "source": [
        "def fun():\n",
        "    name = \"Alice\"\n",
        "    age = 30\n",
        "    return name, age\n",
        "\n",
        "name, age = fun()\n",
        "print(name)\n",
        "print(age)   # Output: 30"
      ],
      "metadata": {
        "colab": {
          "base_uri": "https://localhost:8080/"
        },
        "id": "3cG0PH2sgQQd",
        "outputId": "b84fb469-3209-477b-f7eb-fa9cf3801de6"
      },
      "execution_count": 7,
      "outputs": [
        {
          "output_type": "stream",
          "name": "stdout",
          "text": [
            "Alice\n",
            "30\n"
          ]
        }
      ]
    },
    {
      "cell_type": "markdown",
      "source": [
        "5. What are iterators in Python and how do they differ from iterables?\n",
        "   - **What is an Iterable?**\n",
        "An Iterable is basically an object that any user can iterate over. We can generate an iterator when we pass the object to the iter() method.\n",
        "\n",
        "**What is an Iterator?**\n",
        "An Iterator is also an object that helps a user in iterating over another object (that is iterable). We use the __next__() method for iterating. This method helps iterators return the next item available from the object.\n",
        "Remember that every iterator is basically iterable, but vice versa is not always true. For instance, a list can be iterable but not an iterator. We can create an iterator from an iterator using the iter() function. To make it happen, the classes of any object require either an __iter__ method, which basically returns an iterator or a method __getitem__ that has sequential indexes beginning with 0.\n",
        "\n",
        "When we execute a loop, we use the inter() statement calls on the object that loops over. In case this call becomes successful, an iterator object defining the __next__() will return. It accesses the elements present in an object- one at a time.\n",
        "\n",
        "If there are no further elements, then the method __next__() will raise an exception to StopIteration. As soon as the fort loop catches this exception, it will immediately terminate.\n",
        "\n",
        "  - __iter__ method returns the object itself,\n",
        "\n",
        "- __next__ method returns the next item from a list\n",
        "\n",
        "The Cars class is also an iterable because it implements,\n",
        "\n",
        "- __iter__ method returning an object itself, which is an iterator."
      ],
      "metadata": {
        "id": "4A-ZzG0QgV7d"
      }
    },
    {
      "cell_type": "code",
      "source": [
        "class Cars:\n",
        "\tdef __init__(self):\n",
        "\t\tself.rgb = ['bmw', 'audi', 'benz', 'tesla']\n",
        "\t\tself.__index = 0\n",
        "\n",
        "\tdef __iter__(self):\n",
        "\t\treturn self\n",
        "\n",
        "\tdef __next__(self):\n",
        "\t\tif self.__index >= len(self.rgb):\n",
        "\t\t\traise StopIteration\n",
        "\n",
        "\t\t# return the next car name\n",
        "\t\tcar = self.rgb[self.__index]\n",
        "\t\tself.__index += 1\n",
        "\t\treturn car"
      ],
      "metadata": {
        "id": "U117tvFdhdY1"
      },
      "execution_count": 8,
      "outputs": []
    },
    {
      "cell_type": "markdown",
      "source": [
        "6. Explain the concept of generators in Python and how they are defined.\n",
        "   - Python generator functions are a powerful tool for creating iterators. In this article, we will discuss how the generator function works in Python.\n",
        "\n",
        "Generator Function in Python:\n",
        "A generator function is a special type of function that returns an iterator object. Instead of using return to send back a single value, generator functions use yield to produce a series of results over time. This allows the function to generate values and pause its execution after each yield, maintaining its state between iterations.\n",
        "\n",
        "Basic Code Example :"
      ],
      "metadata": {
        "id": "tNBmR3ZChjwl"
      }
    },
    {
      "cell_type": "code",
      "source": [
        "def fun(max):\n",
        "    cnt = 1\n",
        "    while cnt <= max:\n",
        "        yield cnt\n",
        "        cnt += 1\n",
        "\n",
        "ctr = fun(5)\n",
        "for n in ctr:\n",
        "    print(n)"
      ],
      "metadata": {
        "colab": {
          "base_uri": "https://localhost:8080/"
        },
        "id": "haFlhsHDiFJc",
        "outputId": "241ffc3b-6bdd-4aca-88f5-b9b936fe8bd4"
      },
      "execution_count": 9,
      "outputs": [
        {
          "output_type": "stream",
          "name": "stdout",
          "text": [
            "1\n",
            "2\n",
            "3\n",
            "4\n",
            "5\n"
          ]
        }
      ]
    },
    {
      "cell_type": "markdown",
      "source": [
        "Explanation: This generator function fun yields numbers from 1 up to a specified max. Each call to next() on the generator object resumes execution right after the yield statement, where it last left off.\n",
        "\n",
        "Create a Generator in Python\n",
        "Creating a generator in Python is as simple as defining a function with at least one yield statement. When called, this function doesn’t return a single value; instead, it returns a generator object that supports the iterator protocol. The generator has the following syntax in Python:\n",
        "\n",
        "def generator_function_name(parameters):\n",
        "    # Your code here\n",
        "    yield expression\n",
        "    # Additional code can follow\n",
        "\n",
        "Example:"
      ],
      "metadata": {
        "id": "i1yqigV4iL1E"
      }
    },
    {
      "cell_type": "code",
      "source": [
        "# A generator function that yields 1 for first time,\n",
        "# 2 second time and 3 third time\n",
        "def fun():\n",
        "    yield 1\n",
        "    yield 2\n",
        "    yield 3\n",
        "\n",
        "# Driver code to check above generator function\n",
        "for val in fun():\n",
        "    print(val)"
      ],
      "metadata": {
        "colab": {
          "base_uri": "https://localhost:8080/"
        },
        "id": "czvskoZVidP0",
        "outputId": "82689c3f-82e8-44a8-8b1f-543aeb4581db"
      },
      "execution_count": 10,
      "outputs": [
        {
          "output_type": "stream",
          "name": "stdout",
          "text": [
            "1\n",
            "2\n",
            "3\n"
          ]
        }
      ]
    },
    {
      "cell_type": "markdown",
      "source": [
        "Python Generator Expression\n",
        "Generator expressions are a concise way to create generators. They are similar to list comprehensions but use parentheses instead of square brackets and are more memory efficient.\n",
        "\n",
        "The generator expression in Python has the following Syntax:\n",
        "\n",
        "(expression for item in iterable)\n",
        "\n",
        "\n",
        "Example:"
      ],
      "metadata": {
        "id": "W3JqDui5ip_E"
      }
    },
    {
      "cell_type": "code",
      "source": [
        "sq = (x*x for x in range(1, 6))\n",
        "for i in sq:\n",
        "    print(i)"
      ],
      "metadata": {
        "colab": {
          "base_uri": "https://localhost:8080/"
        },
        "id": "VCsEyqoLirTU",
        "outputId": "6c5a2f7e-4b87-4aab-b896-f3981022501e"
      },
      "execution_count": 11,
      "outputs": [
        {
          "output_type": "stream",
          "name": "stdout",
          "text": [
            "1\n",
            "4\n",
            "9\n",
            "16\n",
            "25\n"
          ]
        }
      ]
    },
    {
      "cell_type": "markdown",
      "source": [
        "7. What are the advantages of using generators over regular functions?\n",
        "   - What are Generators?\n",
        "A generator in Python is a special type of function that allows you to iterate over a set of values. Unlike a regular function, a generator does not return its results all at once. Instead, it yields its values one by one, each time it is called. This makes it possible to generate an infinite sequence of values, as long as there is sufficient memory to store them.\n",
        "   \n",
        "   \n",
        "   Generators have several advantages over regular functions, including:\n",
        "\n",
        "Memory efficiency:\n",
        "Generators only evaluate code when it's needed, so they don't need to store the entire sequence in memory at once. This makes them more memory efficient than regular functions, especially when working with large data sets.\n",
        "\n",
        "Lazy loading:\n",
        "Generators can be used to lazy load data, which means that the data is not loaded until it is actually needed. This can improve performance and reduce bandwidth usage.\n",
        "\n",
        "Flexibility:\n",
        "Generators offer a more flexible approach to computation than regular functions.\n",
        "\n",
        "Infinite sequences:\n",
        "Generators make it easy to create infinite sequences by allowing pausing and resuming.\n",
        "\n",
        "Readability:\n",
        "Generators can make your code easier to read and understand by breaking up the iteration process into smaller chunks.\n",
        "\n",
        "Speed:\n",
        "Generators can be faster than regular loops, especially when working with large data sets.\n",
        "\n",
        "Maintain state:\n",
        "Generators automatically maintain their state between yield statements, making them suitable for iterative processes.\n",
        "\n",
        "Convenience:\n",
        "Generators simplify code for iterating over large datasets or streams of data without needing to manage state explicitly.\n",
        "\n",
        "Streaming data processing:\n",
        "Generators can be used to process data as it arrives, such as reading characters from a file or receiving data from a network socket.\n",
        "\n",
        "Conclusion:\n",
        "Generators are a powerful and flexible feature of the Python programming language. By yielding values one by one, they offer several advantages over regular loops, including memory efficiency, readability, and speed. Whether you’re working with large data sets or just want to write more readable and efficient code, generators are a valuable tool to have in your toolbox. Thank for reading and happy coding! Feel free to follow for more content.\n"
      ],
      "metadata": {
        "id": "Ni5KcEMRiyT8"
      }
    },
    {
      "cell_type": "markdown",
      "source": [
        "8. What is a lambda function in Python and when is it typically used?\n",
        "   - A lambda function in Python is a small, anonymous function that's defined in a single line of code and used for short-term operations. The lambda keyword is used to define a lambda function, and the syntax is lambda parameters: expression.\n",
        "\n",
        "Or,\n",
        "Python Lambda Functions are anonymous functions means that the function is without a name. As we already know the def keyword is used to define a normal function in Python. Similarly, the lambda keyword is used to define an anonymous function in Python.\n",
        "Example :\n",
        "s1 = 'GeeksforGeeks'\n",
        "\n",
        "s2 = lambda func: func.upper()\n",
        "print(s2(s1))\n",
        "\n",
        "Result - GEEKSFORGEEKS\n",
        "\n",
        "Here are some characteristics of lambda functions:\n",
        "Anonymous:\n",
        "Lambda functions are anonymous because they don't require a name, but they can be assigned to a variable for reuse.\n",
        "\n",
        "Single expression:\n",
        "Lambda functions can only have one expression.\n",
        "\n",
        "Simple operations:\n",
        "Lambda functions are ideal for straightforward operations that can be written in a single line, such as basic data transformations or simple mathematical calculations.\n",
        "\n",
        "Functional programming:\n",
        "Lambda functions are often used in functional programming contexts with higher-order functions like map, filter, and reduce.\n",
        "\n",
        "Style and readability:\n",
        "The choice between using a lambda function or a regular function is mainly a matter of style and readability. Regular functions are preferred for more complex operations because they are more readable and maintainable.\n",
        "\n",
        "\n",
        "What is difference between def and lambda in Python?\n",
        "The main differences between def and lambda functions are:\n",
        "\n",
        "\n",
        "Syntax: Lambda functions are written with the lambda keyword followed by parameters and an expression, while def functions have a full function header, body, and can contain multiple statements.\n",
        "Return: Lambda functions implicitly return the result of evaluating the expression, while def functions use an explicit return statement.\n",
        "Scope: Lambda functions are limited to a single expression, making them more restrictive than def functions, which can contain multiple statements and have more complex logic.\n",
        "What is the functionality of lambda?\n",
        "The functionality of lambda functions in Python is to create small, anonymous functions on the fly. They are often used in situations where creating a full-fledged function using def would be overkill or where a function is needed for a short period and doesn’t need a name.\n",
        "\n",
        "\n",
        "When to use lambda?\n",
        "Lambda functions are suitable for:\n",
        "\n",
        "Simple operations: When you need to perform simple operations or calculations.\n",
        "Anonymous functions: When you need a function temporarily or in one place and don’t want to define a named function using def.\n",
        "\n",
        "Functional programming: When working with functions as first-class citizens, such as in map(), filter(), or sorted() functions where a function is passed as an argument.\n",
        "\n",
        "What is key lambda in Python?\n",
        "The “key” parameter in Python functions like sorted() or max() allows specifying a function to be used for custom sorting or comparison. Lambda functions are often used here to define a key based on which the sorting or comparison is performed."
      ],
      "metadata": {
        "id": "moaMLKCyjzhk"
      }
    },
    {
      "cell_type": "markdown",
      "source": [
        "9. Explain the purpose and usage of the `map()` function in Python.\n",
        "   - The map() function is used to apply a given function to every item of an iterable, such as a list or tuple, and returns a map object (which is an iterator).\n",
        "\n",
        "Or,\n",
        "\n",
        "The map() function in Python applies a function to every item in an iterable, such as a list or tuple, and returns a new iterable with the updated values. It's a built-in function that can be used to simplify iterative operations.\n",
        "Purpose\n",
        "The map() function is used to apply a single transformation function to all the elements of an iterable.\n",
        "It can be used to perform data transformations, such as changing strings to uppercase if they start with a vowel.\n",
        "It can also be used to accept multiple inputs in a single line.\n",
        "Usage\n",
        "The map() function takes a function and one or more iterables as arguments.\n",
        "The function is applied to each element of the iterable in parallel.\n",
        "The map() function returns a map object, which is an iterator that can be iterated over.\n",
        "\n",
        "The map object can be converted to a sequence object, like a list or tuple, using factory functions.\n",
        "Example\n",
        "squares = map(lambda x: x**2, numbers)\n",
        "a, b, c = map(int, input().split())\n",
        "\n",
        "Let’s start with a simple example of using map() to convert a list of strings into a list of integers."
      ],
      "metadata": {
        "id": "8_35UZXylDVM"
      }
    },
    {
      "cell_type": "code",
      "source": [
        "s = ['1', '2', '3', '4']\n",
        "res = map(int, s)\n",
        "print(list(res))"
      ],
      "metadata": {
        "colab": {
          "base_uri": "https://localhost:8080/"
        },
        "id": "f2ex878_lQ7b",
        "outputId": "b4db8993-7f11-48e2-f924-8e0178fe02af"
      },
      "execution_count": 12,
      "outputs": [
        {
          "output_type": "stream",
          "name": "stdout",
          "text": [
            "[1, 2, 3, 4]\n"
          ]
        }
      ]
    },
    {
      "cell_type": "markdown",
      "source": [
        "Explanation: Here, we used the built-in int function to convert each string in the list s into an integer. The map() function takes care of applying int() to every element.\n",
        "\n",
        "Parameter:\n",
        "function: The function we want to apply to every element of the iterable.\n",
        "iterable: The iterable whose elements we want to process.\n",
        "\n",
        "Converting map object to a list\n",
        "By default, the map() function returns a map object, which is an iterator. In many cases, we will need to convert this iterator to a list to work with the results directly.\n",
        "\n",
        "Example: Let’s see how to double each elements of the given list."
      ],
      "metadata": {
        "id": "jse_nn1zlTd7"
      }
    },
    {
      "cell_type": "code",
      "source": [
        "a = [1, 2, 3, 4]\n",
        "\n",
        "# Using custom function in \"function\" parameter\n",
        "# This function is simply doubles the provided number\n",
        "def double(val):\n",
        "  return val*2\n",
        "\n",
        "res = list(map(double, a))\n",
        "print(res)"
      ],
      "metadata": {
        "colab": {
          "base_uri": "https://localhost:8080/"
        },
        "id": "NmRBgk77lfiL",
        "outputId": "48d8ad04-5a05-4d94-b2c9-c79bfa4901ee"
      },
      "execution_count": 13,
      "outputs": [
        {
          "output_type": "stream",
          "name": "stdout",
          "text": [
            "[2, 4, 6, 8]\n"
          ]
        }
      ]
    },
    {
      "cell_type": "markdown",
      "source": [
        "Explanation:\n",
        "The map() function returned an iterator, which we then converted into a list using list(). This is a common practice when working with map()\n",
        "We used a custom function to double each value in the list a. The result was mapped and converted into a list for easy display.\n",
        "\n",
        "map() with lambda\n",
        "We can use a lambda function instead of a custom function with map() to make the code shorter and easier. Let’s see how to improve the above code for better readability.\n",
        "\n"
      ],
      "metadata": {
        "id": "qJkXT3BZllTT"
      }
    },
    {
      "cell_type": "code",
      "source": [
        "a = [1, 2, 3, 4]\n",
        "\n",
        "# Using lambda function in \"function\" parameter\n",
        "# to double each number in the list\n",
        "res = list(map(lambda x: x * 2, a))\n",
        "print(res)"
      ],
      "metadata": {
        "colab": {
          "base_uri": "https://localhost:8080/"
        },
        "id": "WmZjRGrjlrPL",
        "outputId": "b1055bee-83a9-4de4-fe5b-5c590b84afe9"
      },
      "execution_count": 14,
      "outputs": [
        {
          "output_type": "stream",
          "name": "stdout",
          "text": [
            "[2, 4, 6, 8]\n"
          ]
        }
      ]
    },
    {
      "cell_type": "markdown",
      "source": [
        "10. What is the difference between `map()`, `reduce()`, and `filter()` functions in Python?\n",
        "     \n",
        "    - Python Streams\n",
        "Python stream is a term for a particular paradigm for data processing that involves the sequential processing of data items as they pass through a pipeline of processes. Streams allow data processing to be continuous, effective, and memory-friendly without loading the entire dataset into memory at once.\n",
        "\n",
        "The map, filter, and reduce functions in Python are higher-order functions that work on sequences of data, such as lists or other iterable objects. Streams can be used in conjunction with these methods. With the help of these functions, you may quickly and effectively analyze typical data on sequence elements.\n",
        "\n",
        "What is functional programming?\n",
        "Functional programming is a programming paradigm that treats computation as evaluating mathematical functions and avoids changing state and mutable data.\n",
        "\n",
        "In functional programming, functions are first-class citizens, meaning they can be assigned to variables, passed as arguments to other functions, and returned as values from other functions.\n",
        "\n",
        "Functional programming emphasizes immutability, meaning that once a value is assigned, it cannot be changed, and it avoids side effects, which are changes to the state or behaviour that affect the result of a function beyond its return value.\n",
        "\n",
        "Map Reduce and Filter Operations in Python:\n",
        "\n",
        "Below, are examples of Map Reduce and Filter Operations in Python:\n",
        "\n",
        "map() Function\n",
        "Reduce() Function\n",
        "Filter() Function\n",
        "Map Function in Python\n",
        "The map () function returns a map object(which is an iterator) of the results after applying the given function to each item of a given iterable (list, tuple, etc.).\n",
        "\n",
        "Syntax: map(fun, iter)\n",
        "\n",
        "Parameters:\n",
        "\n",
        "fun: It is a function to which map passes each element of given iterable.\n",
        "iter:  iterable object to be mapped.\n",
        "\n",
        "Example: In this example, Python program showcases the usage of the map function to double each number in a given list by applying the double function to each element, and then printing the result as a list."
      ],
      "metadata": {
        "id": "7SR-2eBbluOD"
      }
    },
    {
      "cell_type": "code",
      "source": [
        "# Function to return double of n\n",
        "def double(n):\n",
        "    return n * 2\n",
        "\n",
        "# Using map to double all numbers\n",
        "numbers = [5, 6, 7, 8]\n",
        "result = map(double, numbers)\n",
        "print(list(result))"
      ],
      "metadata": {
        "colab": {
          "base_uri": "https://localhost:8080/"
        },
        "id": "0uvoa5IgqDwB",
        "outputId": "43634e47-920f-446d-c368-dfa456064b4f"
      },
      "execution_count": 15,
      "outputs": [
        {
          "output_type": "stream",
          "name": "stdout",
          "text": [
            "[10, 12, 14, 16]\n"
          ]
        }
      ]
    },
    {
      "cell_type": "markdown",
      "source": [
        "Reduce Function in Python\n",
        "The reduce function is used to apply a particular function passed in its argument to all of the list elements mentioned in the sequence passed along.This function is defined in “functools” module.\n",
        "\n",
        "Syntax: reduce(func, iterable[, initial])\n",
        "\n",
        "\n",
        "Parameters:\n",
        "\n",
        "fun: It is a function to execuate on each element of the iterable objec\n",
        "iter: It is iterable to be reduced\n",
        "\n",
        "Example : In this example, we are using reduce() function from the functools module to compute the product of elements in a given list by continuously applying the lambda function that multiplies two numbers together, resulting in the final product."
      ],
      "metadata": {
        "id": "gwNP6mpwqKiR"
      }
    },
    {
      "cell_type": "code",
      "source": [
        "import functools\n",
        "\n",
        "# Define a list of numbers\n",
        "numbers = [1, 2, 3, 4]\n",
        "\n",
        "# Use reduce to compute the product of list elements\n",
        "product = functools.reduce(lambda x, y: x * y, numbers)\n",
        "print(\"Product of list elements:\", product)"
      ],
      "metadata": {
        "colab": {
          "base_uri": "https://localhost:8080/"
        },
        "id": "Iu135asuqOXZ",
        "outputId": "b84f8082-fa7d-4519-c8d3-98c8e0f7024f"
      },
      "execution_count": 16,
      "outputs": [
        {
          "output_type": "stream",
          "name": "stdout",
          "text": [
            "Product of list elements: 24\n"
          ]
        }
      ]
    },
    {
      "cell_type": "markdown",
      "source": [
        "Filter Function in Python\n",
        "The filter() method filters the given sequence with the help of a function that tests each element in the sequence to be true or not.\n",
        "\n",
        "Syntax: filter(function, sequence)\n",
        "\n",
        "Parameters:\n",
        "\n",
        "function: function that tests if each element of a sequence is true or not.\n",
        "sequence: sequence which needs to be filtered, it can be sets, lists, tuples, or containers of any iterators.\n",
        "\n",
        "Example : In this example, we defines a function is_even to check whether a number is even or not. Then, it applies the filter() function to a list of numbers to extract only the even numbers, resulting in a list containing only the even elements. Finally, it prints the list of even numbers."
      ],
      "metadata": {
        "id": "a12IQBCpqTzA"
      }
    },
    {
      "cell_type": "code",
      "source": [
        "# Define a function to check if a number is even\n",
        "def is_even(n):\n",
        "    return n % 2 == 0\n",
        "\n",
        "# Define a list of numbers\n",
        "numbers = [1, 2, 3, 4, 5, 6, 7, 8, 9, 10]\n",
        "\n",
        "# Use filter to filter out even numbers\n",
        "even_numbers = filter(is_even, numbers)\n",
        "print(\"Even numbers:\", list(even_numbers))"
      ],
      "metadata": {
        "colab": {
          "base_uri": "https://localhost:8080/"
        },
        "id": "lPo6CX8eqXJ4",
        "outputId": "a73822db-9a08-4dea-d556-ac5557ff99ec"
      },
      "execution_count": 17,
      "outputs": [
        {
          "output_type": "stream",
          "name": "stdout",
          "text": [
            "Even numbers: [2, 4, 6, 8, 10]\n"
          ]
        }
      ]
    },
    {
      "cell_type": "markdown",
      "source": [
        "CONCLUSION:\n",
        "In conclusion, map(), filter(), and reduce() are built-in functions in Python that are commonly used for functional programming.\n",
        "\n",
        "map() is used to apply a given function to each element of an iterable and returns a new iterable with the results.\n",
        "filter() is used to filter elements from an iterable based on a given condition or function and returns a new iterable with the filtered elements.\n",
        "reduce() is used to apply a given function to the elements of an iterable in a cumulative way, reducing the iterable to a single value.\n",
        "These functions or tools give you strong capabilities for processing data quickly and expressively, making it simple to convert, filter, and aggregate data. They are frequently used in Python's functional programming concepts to create readable and efficient codes."
      ],
      "metadata": {
        "id": "nJ64zJgfrdwY"
      }
    },
    {
      "cell_type": "markdown",
      "source": [
        "11. Using pen & paper write the internal mechanism for sum operation using  reduce function on this given\n",
        "list:[47,11,42,13];\n",
        "\n",
        "   - The reduce(fun,seq) function is used to apply a particular function passed in its argument to all of the list elements mentioned in the sequence passed along. This function is defined in “functools” module.\n",
        "\n",
        "Example:"
      ],
      "metadata": {
        "id": "WYprTwqlrgzg"
      }
    },
    {
      "cell_type": "code",
      "source": [
        "# prompt: Using pen & Paper write the internal mechanism for sum operation using  reduce function on this given\n",
        "# list:[47,11,42,13];\n",
        "\n",
        "import functools\n",
        "\n",
        "# The list of numbers to sum\n",
        "numbers = [47, 11, 42, 13]\n",
        "\n",
        "# Using reduce to calculate the sum\n",
        "sum_of_numbers = functools.reduce(lambda x, y: x + y, numbers)\n",
        "\n",
        "# Print the result\n",
        "sum_of_numbers"
      ],
      "metadata": {
        "id": "H9FFqSyKroqk"
      },
      "execution_count": null,
      "outputs": []
    },
    {
      "cell_type": "markdown",
      "source": [
        " - Using reduce() with operator functions\n",
        "reduce() can also be combined with operator functions to achieve the similar functionality as with lambda functions and makes the code more readable.\n",
        "\n",
        "Example:"
      ],
      "metadata": {
        "id": "FO724yZmsQPI"
      }
    },
    {
      "cell_type": "code",
      "source": [
        "import functools\n",
        "\n",
        "# importing operator for operator functions\n",
        "import operator\n",
        "\n",
        "# initializing list\n",
        "a = [1, 3, 5, 6, 2]\n",
        "\n",
        "# using reduce with add to compute sum of list\n",
        "print(functools.reduce(operator.add, a))\n",
        "\n",
        "# using reduce with mul to compute product\n",
        "print(functools.reduce(operator.mul, a))\n",
        "\n",
        "# using reduce with add to concatenate string\n",
        "print(functools.reduce(operator.add, [\"geeks\", \"for\", \"geeks\"]))"
      ],
      "metadata": {
        "colab": {
          "base_uri": "https://localhost:8080/"
        },
        "id": "PNWBFwjBsS1I",
        "outputId": "520a5f56-93f9-4a9c-da16-03a00974b951"
      },
      "execution_count": 19,
      "outputs": [
        {
          "output_type": "stream",
          "name": "stdout",
          "text": [
            "17\n",
            "180\n",
            "geeksforgeeks\n"
          ]
        }
      ]
    },
    {
      "cell_type": "markdown",
      "source": [
        "####Practical Questions####"
      ],
      "metadata": {
        "id": "7wW3sBAD-SAQ"
      }
    },
    {
      "cell_type": "markdown",
      "source": [
        "1. Write a Python function that takes a list of numbers as input and returns the sum of all even numbers in\n",
        "the list."
      ],
      "metadata": {
        "id": "vmEH6n0x-W6Y"
      }
    },
    {
      "cell_type": "code",
      "source": [
        "def sum_of_even_numbers(numbers):\n",
        "    \"\"\"\n",
        "    Calculates the sum of all even numbers in a given list.\n",
        "\n",
        "    Args:\n",
        "    numbers: A list of numbers.\n",
        "\n",
        "    Returns:\n",
        "    The sum of all even numbers in the list.\n",
        "    \"\"\"\n",
        "    sum_even = 0\n",
        "    for number in numbers:\n",
        "        if number % 2 == 0:\n",
        "            sum_even += number\n",
        "    return sum_even"
      ],
      "metadata": {
        "id": "JWpW50iU-oQo"
      },
      "execution_count": 22,
      "outputs": []
    },
    {
      "cell_type": "markdown",
      "source": [
        "2. Create a Python function that accepts a string and returns the reverse of that string."
      ],
      "metadata": {
        "id": "mFRf2DdB-r3H"
      }
    },
    {
      "cell_type": "code",
      "source": [
        "def reverse_string(input_string):\n",
        "    \"\"\"\n",
        "    Reverses a given string.\n",
        "\n",
        "    Args:\n",
        "        input_string: The string to be reversed.\n",
        "\n",
        "    Returns:\n",
        "        The reversed string.\n",
        "    \"\"\"\n",
        "    return input_string[::-1]"
      ],
      "metadata": {
        "id": "vaVRsWGv-vMg"
      },
      "execution_count": 24,
      "outputs": []
    },
    {
      "cell_type": "markdown",
      "source": [
        "3. Implement a Python function that takes a list of integers and returns a new list containing the squares of\n",
        "each number."
      ],
      "metadata": {
        "id": "O-Yx3jPF-3bi"
      }
    },
    {
      "cell_type": "code",
      "source": [
        "def square_numbers(numbers):\n",
        "    \"\"\"\n",
        "    Takes a list of integers and returns a new list containing the squares of each number.\n",
        "\n",
        "    Args:\n",
        "        numbers: A list of integers.\n",
        "\n",
        "    Returns:\n",
        "        A new list with the squares of the input numbers.\n",
        "    \"\"\"\n",
        "    squared_numbers = []\n",
        "    for number in numbers:\n",
        "        squared_numbers.append(number**2)\n",
        "    return squared_numbers"
      ],
      "metadata": {
        "id": "tHlvyOSR-72H"
      },
      "execution_count": 26,
      "outputs": []
    },
    {
      "cell_type": "markdown",
      "source": [
        "4. Write a Python function that checks if a given number is prime or not from 1 to 200.\n",
        "\n",
        "\n"
      ],
      "metadata": {
        "id": "ZBNZWevg_D0P"
      }
    },
    {
      "cell_type": "code",
      "source": [
        "def is_prime(number):\n",
        "    \"\"\"\n",
        "    Checks if a given number is prime or not.\n",
        "\n",
        "    Args:\n",
        "        number: The number to check for primality.\n",
        "\n",
        "    Returns:\n",
        "        True if the number is prime, False otherwise.\n",
        "    \"\"\"\n",
        "    if number <= 1:\n",
        "        return False\n",
        "    if number <= 3:\n",
        "        return True\n",
        "    if number % 2 == 0 or number % 3 == 0:\n",
        "        return False\n",
        "    i = 5\n",
        "    while i * i <= number:\n",
        "        if number % i == 0 or number % (i + 2) == 0:\n",
        "            return False\n",
        "        i += 6\n",
        "    return True"
      ],
      "metadata": {
        "id": "1bSoG1Dz_Qk3"
      },
      "execution_count": 27,
      "outputs": []
    },
    {
      "cell_type": "markdown",
      "source": [
        "5. Create an iterator class in Python that generates the Fibonacci sequence up to a specified number of\n",
        "terms."
      ],
      "metadata": {
        "id": "W_v2ckex_SLf"
      }
    },
    {
      "cell_type": "code",
      "source": [
        "class FibonacciIterator:\n",
        "    def __init__(self, n):\n",
        "        self.n = n\n",
        "        self.a = 0\n",
        "        self.b = 1\n",
        "        self.count = 0\n",
        "\n",
        "    def __iter__(self):\n",
        "        return self\n",
        "\n",
        "    def __next__(self):\n",
        "        if self.count >= self.n:\n",
        "            raise StopIteration\n",
        "\n",
        "        fib_number = self.a\n",
        "        self.a, self.b = self.b, self.a + self.b\n",
        "        self.count += 1\n",
        "        return fib_number"
      ],
      "metadata": {
        "id": "zcgkv50H_ba_"
      },
      "execution_count": 28,
      "outputs": []
    },
    {
      "cell_type": "markdown",
      "source": [
        "6. Write a generator function in Python that yields the powers of 2 up to a given exponent."
      ],
      "metadata": {
        "id": "EsLIuU4R_d14"
      }
    },
    {
      "cell_type": "code",
      "source": [
        "def powers_of_2(exponent):\n",
        "    \"\"\"\n",
        "    Generates powers of 2 up to a given exponent.\n",
        "\n",
        "    Args:\n",
        "        exponent: The maximum exponent for the powers of 2.\n",
        "\n",
        "    Yields:\n",
        "        Powers of 2 up to the given exponent.\n",
        "    \"\"\"\n",
        "    for i in range(exponent + 1):\n",
        "        yield 2**i"
      ],
      "metadata": {
        "id": "lLDbCpP5_kuX"
      },
      "execution_count": 29,
      "outputs": []
    },
    {
      "cell_type": "markdown",
      "source": [
        "7. Implement a generator function that reads a file line by line and yields each line as a string."
      ],
      "metadata": {
        "id": "xsBf9Ojp_m3P"
      }
    },
    {
      "cell_type": "code",
      "source": [
        "def file_reader(filename):\n",
        "    \"\"\"\n",
        "    Reads a file line by line and yields each line as a string.\n",
        "\n",
        "    Args:\n",
        "        filename: The path to the file.\n",
        "\n",
        "    Yields:\n",
        "        Each line in the file as a string.\n",
        "    \"\"\"\n",
        "    try:\n",
        "        with open(filename, 'r') as file:\n",
        "            for line in file:\n",
        "                yield line.strip()  # Remove leading/trailing whitespace\n",
        "    except FileNotFoundError:\n",
        "        print(f\"Error: File '{filename}' not found.\")\n",
        "        return  # Or raise the exception if you prefer\n",
        "    except Exception as e:\n",
        "        print(f\"An error occurred: {e}\")\n",
        "        return"
      ],
      "metadata": {
        "id": "VsaR6UK3_ueg"
      },
      "execution_count": 30,
      "outputs": []
    },
    {
      "cell_type": "markdown",
      "source": [
        "8. Use a lambda function in Python to sort a list of tuples based on the second element of each tuple."
      ],
      "metadata": {
        "id": "GJGOgVfV_xxH"
      }
    },
    {
      "cell_type": "code",
      "source": [
        "data = [(1, 5), (3, 2), (2, 8), (4, 1)]\n",
        "sorted_data = sorted(data, key=lambda x: x[1])\n",
        "sorted_data"
      ],
      "metadata": {
        "colab": {
          "base_uri": "https://localhost:8080/"
        },
        "id": "PoUUY1kR_5C3",
        "outputId": "d91e7bc5-51f2-4d1c-9f82-f0dea0253b47"
      },
      "execution_count": 31,
      "outputs": [
        {
          "output_type": "execute_result",
          "data": {
            "text/plain": [
              "[(4, 1), (3, 2), (1, 5), (2, 8)]"
            ]
          },
          "metadata": {},
          "execution_count": 31
        }
      ]
    },
    {
      "cell_type": "markdown",
      "source": [
        "9. Write a Python program that uses `map()` to convert a list of temperatures from Celsius to Fahrenheit."
      ],
      "metadata": {
        "id": "4dUx8_3F_7Pf"
      }
    },
    {
      "cell_type": "code",
      "source": [
        "def celsius_to_fahrenheit(celsius):\n",
        "    return (celsius * 9/5) + 32\n",
        "\n",
        "celsius_temps = [0, 10, 20, 30, 40]\n",
        "fahrenheit_temps = list(map(celsius_to_fahrenheit, celsius_temps))\n",
        "fahrenheit_temps"
      ],
      "metadata": {
        "colab": {
          "base_uri": "https://localhost:8080/"
        },
        "id": "kZw960jaADA3",
        "outputId": "5c621ebf-f537-4e98-82ec-ec2014470b6f"
      },
      "execution_count": 32,
      "outputs": [
        {
          "output_type": "execute_result",
          "data": {
            "text/plain": [
              "[32.0, 50.0, 68.0, 86.0, 104.0]"
            ]
          },
          "metadata": {},
          "execution_count": 32
        }
      ]
    },
    {
      "cell_type": "markdown",
      "source": [
        "10. Create a Python program that uses `filter()` to remove all the vowels from a given string."
      ],
      "metadata": {
        "id": "KKK_MXM4AE0X"
      }
    },
    {
      "cell_type": "code",
      "source": [
        "def remove_vowels(input_string):\n",
        "    vowels = \"aeiouAEIOU\"\n",
        "    return \"\".join(filter(lambda char: char not in vowels, input_string))"
      ],
      "metadata": {
        "id": "DAlHKZj4AM43"
      },
      "execution_count": 33,
      "outputs": []
    },
    {
      "cell_type": "markdown",
      "source": [
        "11. Imagine an accounting routine used in a book shop. It works on a list with sublists, which look like this:\n",
        "\n",
        "\n",
        "\n",
        "\n",
        "\n",
        "\n",
        "\n",
        "Write a Python program, which returns a list with 2-tuples. Each tuple consists of the order number and the\n",
        "product of the price per item and the quantity. The product should be increased by 10,- € if the value of the\n",
        "order is smaller than 100,00 €."
      ],
      "metadata": {
        "id": "CbLLwzvSAOPO"
      }
    },
    {
      "cell_type": "code",
      "source": [
        "def calculate_order_values(orders):\n",
        "    \"\"\"\n",
        "    Calculates order values with adjustments for small orders.\n",
        "\n",
        "    Args:\n",
        "        orders: A list of lists, where each sublist represents an order with the format\n",
        "               [order_number, price_per_item, quantity].\n",
        "\n",
        "    Returns:\n",
        "        A list of 2-tuples, where each tuple contains the order number and the adjusted order value.\n",
        "    \"\"\"\n",
        "    result = []\n",
        "    for order in orders:\n",
        "        order_number, price, quantity = order\n",
        "        order_value = price * quantity\n",
        "        if order_value < 100:\n",
        "            order_value += 10\n",
        "        result.append((order_number, order_value))\n",
        "    return result"
      ],
      "metadata": {
        "id": "vkWm_qSHAmku"
      },
      "execution_count": 34,
      "outputs": []
    },
    {
      "cell_type": "markdown",
      "source": [
        "Write a Python program using lambda and map."
      ],
      "metadata": {
        "id": "JyFTMSDpArsX"
      }
    },
    {
      "cell_type": "code",
      "source": [
        "# Example usage of lambda and map\n",
        "numbers = [1, 2, 3, 4, 5]\n",
        "\n",
        "# Square each number using lambda and map\n",
        "squared_numbers = list(map(lambda x: x**2, numbers))\n",
        "\n",
        "squared_numbers"
      ],
      "metadata": {
        "colab": {
          "base_uri": "https://localhost:8080/"
        },
        "id": "Fiy7Tp8pAxzv",
        "outputId": "c1a81635-e886-4224-815c-fc4167496961"
      },
      "execution_count": 35,
      "outputs": [
        {
          "output_type": "execute_result",
          "data": {
            "text/plain": [
              "[1, 4, 9, 16, 25]"
            ]
          },
          "metadata": {},
          "execution_count": 35
        }
      ]
    }
  ]
}